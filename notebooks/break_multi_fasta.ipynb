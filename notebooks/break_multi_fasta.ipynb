{
 "cells": [
  {
   "cell_type": "markdown",
   "source": [],
   "metadata": {
    "collapsed": false
   },
   "id": "5cb22318f830c133"
  },
  {
   "cell_type": "code",
   "outputs": [],
   "source": [
    "import re\n",
    "import os\n",
    "from Bio import SeqIO"
   ],
   "metadata": {
    "collapsed": false,
    "ExecuteTime": {
     "end_time": "2024-03-01T20:01:13.185183Z",
     "start_time": "2024-03-01T20:01:13.181786Z"
    }
   },
   "id": "1d18e940410527c8",
   "execution_count": 8
  },
  {
   "cell_type": "code",
   "outputs": [],
   "source": [
    "INPUT_MULTI_FASTA = \"input_data/sequences_for_pdes/ligT/ligT_sequences.fasta\"\n",
    "OUTPUT_ROOT_DIRECTORY = \"input_data/sequences_for_pdes/ligT/sequence_reps\""
   ],
   "metadata": {
    "collapsed": false,
    "ExecuteTime": {
     "end_time": "2024-03-01T20:34:44.473264Z",
     "start_time": "2024-03-01T20:34:44.467802Z"
    }
   },
   "id": "b2c84d93ff0e1749",
   "execution_count": 13
  },
  {
   "cell_type": "code",
   "outputs": [],
   "source": [
    "records = SeqIO.parse(INPUT_MULTI_FASTA, \"fasta\")"
   ],
   "metadata": {
    "collapsed": false,
    "ExecuteTime": {
     "end_time": "2024-03-01T20:34:45.116317Z",
     "start_time": "2024-03-01T20:34:45.114389Z"
    }
   },
   "id": "347761636fefe035",
   "execution_count": 14
  },
  {
   "cell_type": "code",
   "outputs": [],
   "source": [
    "if not os.path.exists(OUTPUT_ROOT_DIRECTORY):\n",
    "        os.makedirs(OUTPUT_ROOT_DIRECTORY)"
   ],
   "metadata": {
    "collapsed": false,
    "ExecuteTime": {
     "end_time": "2024-03-01T20:34:46.228156Z",
     "start_time": "2024-03-01T20:34:46.225157Z"
    }
   },
   "id": "aa21b0ed7c355672",
   "execution_count": 15
  },
  {
   "cell_type": "code",
   "outputs": [],
   "source": [
    "for record in records:\n",
    "    record.id = re.sub(r\"\\:\", \"_\", record.id)\n",
    "    record.id = re.sub(r\"\\(\", \"_\", record.id)\n",
    "    record.id = re.sub(r\"\\)\", \"_\", record.id)\n",
    "    out_filepath = f\"{OUTPUT_ROOT_DIRECTORY}/{record.id}.fasta\" \n",
    "    with open(out_filepath, \"w\") as fasta_handle:\n",
    "        SeqIO.write(record, fasta_handle, \"fasta\")"
   ],
   "metadata": {
    "collapsed": false,
    "ExecuteTime": {
     "end_time": "2024-03-01T20:34:46.843485Z",
     "start_time": "2024-03-01T20:34:46.837708Z"
    }
   },
   "id": "e1907be06dc981d",
   "execution_count": 16
  }
 ],
 "metadata": {
  "kernelspec": {
   "display_name": "Python 3",
   "language": "python",
   "name": "python3"
  },
  "language_info": {
   "codemirror_mode": {
    "name": "ipython",
    "version": 2
   },
   "file_extension": ".py",
   "mimetype": "text/x-python",
   "name": "python",
   "nbconvert_exporter": "python",
   "pygments_lexer": "ipython2",
   "version": "2.7.6"
  }
 },
 "nbformat": 4,
 "nbformat_minor": 5
}
